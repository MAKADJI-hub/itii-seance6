{
 "cells": [
  {
   "cell_type": "code",
   "execution_count": 2,
   "metadata": {},
   "outputs": [],
   "source": [
    "#EXO1\n",
    "#Ecrire la fontion integrale(f,a,b,n) \n",
    "\n",
    "def integrale(f, a, b, n):\n",
    "    \n",
    "    integrale = 0\n",
    "    k=a;\n",
    "    while(k < b):\n",
    "        largeur = (b-a)/n\n",
    "        hauteur = f(a + k*(b-a)/n)\n",
    "        aire = largeur * hauteur\n",
    "        integrale += aire\n",
    "        k+=n\n",
    " \n",
    "    return integrale"
   ]
  },
  {
   "cell_type": "code",
   "execution_count": 3,
   "metadata": {},
   "outputs": [
    {
     "data": {
      "text/plain": [
       "(8.999909928015299e-06, 10001)"
      ]
     },
     "execution_count": 3,
     "metadata": {},
     "output_type": "execute_result"
    }
   ],
   "source": [
    "#EXO1\n",
    "#Quelle valeur de n faut-il choisir pour être précis à 10^{-4} près ? Ecrire la fonction qui permette de calculer cette valeur. \n",
    "def integrale_precise(f, a, b, n0, precision):\n",
    "    val = integrale(f, a, b, n0)\n",
    "    val0 = None\n",
    "    while val0 is None or abs(val - val0) / val0 > precision:\n",
    "        val0 = val\n",
    "        n0 += 1\n",
    "        val = integrale(f, a, b, n0)\n",
    "    return val, n0\n",
    "\n",
    "integrale_precise(lambda x: x, 0.1, 1, 10, 1e-4)"
   ]
  },
  {
   "cell_type": "code",
   "execution_count": 4,
   "metadata": {},
   "outputs": [
    {
     "name": "stdout",
     "output_type": "stream",
     "text": [
      "98019899.49751785\n"
     ]
    }
   ],
   "source": [
    "#EXO1\n",
    "#Tester avec la fonction 𝑓(𝑥)=3𝑥3+2𝑥−1 sur l'interval [0,10] avec un pas de 0.001\n",
    "import math\n",
    "g = lambda x : math.cos(1/x)\n",
    "print(integrale(g,0.1,10,0.001))"
   ]
  },
  {
   "cell_type": "code",
   "execution_count": 5,
   "metadata": {},
   "outputs": [
    {
     "name": "stdout",
     "output_type": "stream",
     "text": [
      "98019899.49751785\n"
     ]
    }
   ],
   "source": [
    "#EXO1\n",
    "#Tester avec la fonction $g(x)=cos(\\frac {1}{})\n",
    "import math\n",
    "g = lambda x : math.cos(1/x)\n",
    "print(integrale(g,0.1,10,0.001))"
   ]
  },
  {
   "cell_type": "code",
   "execution_count": 6,
   "metadata": {},
   "outputs": [],
   "source": [
    "#EXO 2 (1)\n",
    "def trapezes(f, a, b, N):\n",
    "     pas = (b-a) / N\n",
    "     x = a\n",
    "     somme = (f(a) + f(b)) / 2\n",
    "    \n",
    "     for _ in range(N-1):\n",
    "        x += pas\n",
    "        somme += f(x)\n",
    "     return somme / N"
   ]
  },
  {
   "cell_type": "code",
   "execution_count": 7,
   "metadata": {},
   "outputs": [
    {
     "data": {
      "text/plain": [
       "0.3333500000000004"
      ]
     },
     "execution_count": 7,
     "metadata": {},
     "output_type": "execute_result"
    }
   ],
   "source": [
    "trapezes(lambda x: x**2, 0, 1, 100)"
   ]
  },
  {
   "cell_type": "code",
   "execution_count": null,
   "metadata": {},
   "outputs": [],
   "source": []
  }
 ],
 "metadata": {
  "kernelspec": {
   "display_name": "Python 3",
   "language": "python",
   "name": "python3"
  },
  "language_info": {
   "codemirror_mode": {
    "name": "ipython",
    "version": 3
   },
   "file_extension": ".py",
   "mimetype": "text/x-python",
   "name": "python",
   "nbconvert_exporter": "python",
   "pygments_lexer": "ipython3",
   "version": "3.8.3"
  }
 },
 "nbformat": 4,
 "nbformat_minor": 4
}
